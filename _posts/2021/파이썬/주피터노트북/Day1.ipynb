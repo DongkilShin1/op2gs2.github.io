{
 "cells": [
  {
   "cell_type": "markdown",
   "id": "e044ceca",
   "metadata": {},
   "source": [
    "## 1. 파이썬의 일반"
   ]
  },
  {
   "cell_type": "code",
   "execution_count": 5,
   "id": "d92b2c21",
   "metadata": {},
   "outputs": [
    {
     "name": "stdout",
     "output_type": "stream",
     "text": [
      "Hello\n"
     ]
    }
   ],
   "source": [
    "print(\"Hello\")"
   ]
  },
  {
   "cell_type": "code",
   "execution_count": 4,
   "id": "c8ce9804",
   "metadata": {},
   "outputs": [
    {
     "name": "stdout",
     "output_type": "stream",
     "text": [
      "Hello\n",
      "Hello\n"
     ]
    }
   ],
   "source": [
    "# 한 줄에 여러문을 작성할 땐, 세미콜론으로 구분\n",
    "print(\"Hello\"); print(\"Hello\")"
   ]
  },
  {
   "cell_type": "code",
   "execution_count": 6,
   "id": "abb72361",
   "metadata": {},
   "outputs": [],
   "source": [
    "# Jupyter Notebook 단축어 정리\n",
    "# ctrl + Enter: 현재 가리키는 곳 실행(하단으로 움직임X)\n",
    "# shift + Enter: 현재 가리키는 곳 실행(하단으로 움직임X)\n",
    "# ctrl + /: 선택한 줄 주석처리\n",
    "# 파이썬은 들여쓰기가 구문을 구분하는 문법이다."
   ]
  },
  {
   "cell_type": "markdown",
   "id": "d7c64bd5",
   "metadata": {},
   "source": [
    "## 2. 파이썬의 변수"
   ]
  },
  {
   "cell_type": "code",
   "execution_count": null,
   "id": "5dc0c650",
   "metadata": {},
   "outputs": [],
   "source": [
    "a = 1\n",
    "a = a + 1; a+=1\n",
    "#++a; a++ #파이썬은 증감연산자를 지원하지 않는다."
   ]
  },
  {
   "cell_type": "code",
   "execution_count": 19,
   "id": "7e147a5c",
   "metadata": {
    "scrolled": true
   },
   "outputs": [
    {
     "name": "stdout",
     "output_type": "stream",
     "text": [
      "10.0\n"
     ]
    }
   ],
   "source": [
    "a = 10 \n",
    "a = float(10) # 소수점으로 형변환\n",
    "b = int(10.0)\n",
    "c = str(10)\n",
    "\n",
    "print(type(a))\n",
    "print(type(b))\n",
    "print(type(c))\n",
    "\n",
    "print(a)"
   ]
  },
  {
   "cell_type": "code",
   "execution_count": 21,
   "id": "2a3d2baa",
   "metadata": {},
   "outputs": [
    {
     "name": "stdout",
     "output_type": "stream",
     "text": [
      "20\n"
     ]
    }
   ],
   "source": [
    "# 실수형에서 정수형으로 형변환 시 소수점 이하 내림처리\n",
    "a = 10.8\n",
    "b = 10.2\n",
    "\n",
    "a = int(a) # a = 10\n",
    "b = int(b) # b = 10\n",
    "print(a+b) # a+b = 20"
   ]
  },
  {
   "cell_type": "code",
   "execution_count": 20,
   "id": "3a6b7735",
   "metadata": {},
   "outputs": [
    {
     "name": "stdout",
     "output_type": "stream",
     "text": [
      "23.23\n"
     ]
    }
   ],
   "source": [
    "# 문자열에서 실수로 형변환하기\n",
    "a = '23.23'\n",
    "b = float(a)\n",
    "print(a)\n",
    "\n",
    "#print(a+b) #문자열과 숫자(실수)는 연산이 불가능하다."
   ]
  },
  {
   "cell_type": "code",
   "execution_count": 23,
   "id": "eae9faf0",
   "metadata": {},
   "outputs": [
    {
     "name": "stdout",
     "output_type": "stream",
     "text": [
      "2123\n",
      "<class 'str'>\n"
     ]
    }
   ],
   "source": [
    "# 참고로 문자열끼리 연결(Concatnation)이 가능하다\n",
    "a = '21'\n",
    "b = '23'\n",
    "print(a+b)\n",
    "print(type(a+b))"
   ]
  },
  {
   "cell_type": "code",
   "execution_count": 27,
   "id": "066a580e",
   "metadata": {},
   "outputs": [
    {
     "name": "stdout",
     "output_type": "stream",
     "text": [
      "0x104b43a80\n",
      "0x104b43a80\n",
      "0x7fcda83a38b0\n",
      "0x104b43a60\n",
      "0x104b43a80\n"
     ]
    }
   ],
   "source": [
    "# 파이썬의 모든 것은 객체이다. 즉, 파이썬의 변수도 하나의 객체이다.\n",
    "# 스택에는 메모리주소를 가지고 있고, 힙에서 실제 값을 가지고 있다.\n",
    "# 변수는 값이 보관되어 있는 곳의 주소값을 가지고 있음.\n",
    "-> 그림으로 표현하기\n",
    "\n",
    "# 파이썬에서 같은 값이면, 변수의 주소값을 가진다. (얕은 복사)\n",
    "x = 10\n",
    "y = 10\n",
    "z = '10'\n",
    "print(hex(id(x)))\n",
    "print(hex(id(y)))\n",
    "print(hex(id(z)))\n",
    "\n",
    "# 하지만 값이 달라지면, 주소도 달라진다. (깊은 복사)\n",
    "x = 9\n",
    "y = 10\n",
    "print(hex(id(x)))\n",
    "print(hex(id(y)))\n"
   ]
  },
  {
   "cell_type": "code",
   "execution_count": 31,
   "id": "8433c183",
   "metadata": {},
   "outputs": [
    {
     "name": "stdout",
     "output_type": "stream",
     "text": [
      "176\n",
      "174\n"
     ]
    }
   ],
   "source": [
    "# 객체를 참조하면 ref count가 증가한다. -> 그림으로 표현하기\n",
    "import sys\n",
    "\n",
    "x = 10\n",
    "y = 10\n",
    "z = 10\n",
    "print(sys.getrefcount(x))\n",
    "\n",
    "# None/del을 통해 객체와의 연결을 끊어줄 수 있다.\n",
    "y = None\n",
    "del z\n",
    "print(sys.getrefcount(x))"
   ]
  },
  {
   "cell_type": "markdown",
   "id": "6981708a",
   "metadata": {},
   "source": [
    "## 3. 파이썬 입력하기"
   ]
  },
  {
   "cell_type": "code",
   "execution_count": 34,
   "id": "8b1aad98",
   "metadata": {},
   "outputs": [
    {
     "name": "stdout",
     "output_type": "stream",
     "text": [
      "What is your name?123\n",
      "123\n"
     ]
    }
   ],
   "source": [
    "# 입력하기 \n",
    "a = input(\"What is your name?\")\n",
    "print(a)"
   ]
  },
  {
   "cell_type": "code",
   "execution_count": 35,
   "id": "8aaa5d3f",
   "metadata": {},
   "outputs": [
    {
     "name": "stdout",
     "output_type": "stream",
     "text": [
      "How old are you?468\n",
      "469\n"
     ]
    }
   ],
   "source": [
    "#무조건 문자열로 입력이 되므로, 형변환이 필요함\n",
    "a = int(input(\"How old are you?\"))\n",
    "a += 1\n",
    "print(a)"
   ]
  },
  {
   "cell_type": "code",
   "execution_count": 46,
   "id": "456b8373",
   "metadata": {},
   "outputs": [
    {
     "name": "stdout",
     "output_type": "stream",
     "text": [
      "Hello,World\n",
      "Hello\n",
      "World\n"
     ]
    }
   ],
   "source": [
    "# 입력 값을 변수 두 개에 저장하기\n",
    "    # 변수1, 변수2 = input().split()\n",
    "    # 변수1, 변수2 = input(\"문자열\").split()\n",
    "    # 변수1, 변수2 = input().split(\"기준문자열\")\n",
    "    # 변수1, 변수2 = input(\"문자열\").split(\"기준문자열\")\n",
    "    \n",
    "a, b = input().split(\",\")\n",
    "print(a,end=\"\\n\")\n",
    "print(b)"
   ]
  },
  {
   "cell_type": "code",
   "execution_count": 49,
   "id": "9e096919",
   "metadata": {},
   "outputs": [
    {
     "name": "stdout",
     "output_type": "stream",
     "text": [
      "숫자입력: 12 23\n",
      "12\n",
      "23\n"
     ]
    }
   ],
   "source": [
    "# 정수 입력 값을 변수 두 개에 저장하기 (방법1)\n",
    "a, b = input(\"숫자입력: \").split()\n",
    "a = int(a)\n",
    "b = int(b)\n",
    "print(a,end=\"\\n\")\n",
    "print(b)"
   ]
  },
  {
   "cell_type": "code",
   "execution_count": 44,
   "id": "97988707",
   "metadata": {},
   "outputs": [
    {
     "name": "stdout",
     "output_type": "stream",
     "text": [
      "123,231\n",
      "123\n",
      "231\n"
     ]
    }
   ],
   "source": [
    "# 정수 입력 값을 변수 두 개에 저장하기 (방법2)\n",
    "a, b = input().split(\",\")\n",
    "a, b = map(int, input(\"숫자입력: \").split())\n",
    "print(a,end=\"\\n\")\n",
    "print(b)"
   ]
  },
  {
   "cell_type": "markdown",
   "id": "ed7e080b",
   "metadata": {},
   "source": [
    "## 4. 파이썬 출력하기"
   ]
  },
  {
   "cell_type": "code",
   "execution_count": 57,
   "id": "377cf315",
   "metadata": {},
   "outputs": [
    {
     "name": "stdout",
     "output_type": "stream",
     "text": [
      "개행으로 분리자 지정\n",
      "1\n",
      "2\n",
      "3\n",
      "탭문자로 분리자 지정\n",
      "1\t2\t3\n",
      "콤마(,)으로 분리자 지정\n",
      "1,2,3\n"
     ]
    }
   ],
   "source": [
    "# 분리자에 다양한 형태가 올 수 있다.\n",
    "print(\"개행으로 분리자 지정\")\n",
    "print(1,2,3,sep=\"\\n\")\n",
    "print(\"탭문자로 분리자 지정\")\n",
    "print(1,2,3,sep=\"\\t\")\n",
    "print(\"콤마(,)으로 분리자 지정\")\n",
    "print(1,2,3,sep=\",\")\n"
   ]
  },
  {
   "cell_type": "code",
   "execution_count": 58,
   "id": "5e20f9f0",
   "metadata": {},
   "outputs": [
    {
     "name": "stdout",
     "output_type": "stream",
     "text": [
      "개행으로 종료자 지정\n",
      "1 2 3\n",
      "탭문자로 종료자 지정\n",
      "1 2 3\t콤마(,)으로 종료자 지정\n",
      "1 2 3,"
     ]
    }
   ],
   "source": [
    "# 종료자에도 다양한 형태가 올 수 있다.\n",
    "print(\"개행으로 종료자 지정\")\n",
    "print(1,2,3,end=\"\\n\")\n",
    "print(\"탭문자로 종료자 지정\")\n",
    "print(1,2,3,end=\"\\t\")\n",
    "print(\"콤마(,)으로 종료자 지정\")\n",
    "print(1,2,3,end=\",\")"
   ]
  },
  {
   "cell_type": "code",
   "execution_count": null,
   "id": "85f10a35",
   "metadata": {},
   "outputs": [],
   "source": [
    "# 포멧팅을 통해 출력의 형식을 지정가능하다.\n",
    "print()\n",
    "\n"
   ]
  }
 ],
 "metadata": {
  "kernelspec": {
   "display_name": "Python 3",
   "language": "python",
   "name": "python3"
  },
  "language_info": {
   "codemirror_mode": {
    "name": "ipython",
    "version": 3
   },
   "file_extension": ".py",
   "mimetype": "text/x-python",
   "name": "python",
   "nbconvert_exporter": "python",
   "pygments_lexer": "ipython3",
   "version": "3.8.8"
  }
 },
 "nbformat": 4,
 "nbformat_minor": 5
}
